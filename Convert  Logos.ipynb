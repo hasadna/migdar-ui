{
 "cells": [
  {
   "cell_type": "code",
   "execution_count": 19,
   "metadata": {},
   "outputs": [],
   "source": [
    "import os\n",
    "import glob\n",
    "from PIL import Image\n",
    "import math\n",
    "\n",
    "os.makedirs('out', exist_ok=True)"
   ]
  },
  {
   "cell_type": "code",
   "execution_count": 14,
   "metadata": {},
   "outputs": [],
   "source": [
    "all_files = glob.glob('*')"
   ]
  },
  {
   "cell_type": "code",
   "execution_count": 30,
   "metadata": {},
   "outputs": [
    {
     "name": "stdout",
     "output_type": "stream",
     "text": [
      "[Errno 21] Is a directory: 'ready'\n",
      "350 235 RGBA (0, 57)\n",
      "350 298 RGB (0, 26)\n",
      "350 322 RGB (0, 14)\n",
      "350 123 RGB (0, 113)\n",
      "350 350 RGB (0, 0)\n",
      "247 350 RGBA (51, 0)\n",
      "350 162 RGBA (0, 94)\n",
      "cannot identify image file 'Untitled.ipynb'\n",
      "350 184 RGB (0, 83)\n",
      "350 113 RGBA (0, 118)\n",
      "350 211 RGBA (0, 69)\n",
      "350 146 RGB (0, 102)\n",
      "350 136 RGB (0, 107)\n",
      "350 171 RGBA (0, 89)\n",
      "350 339 RGBA (0, 5)\n",
      "350 349 RGB (0, 0)\n",
      "350 350 RGB (0, 0)\n",
      "350 191 P (0, 79)\n",
      "350 350 RGB (0, 0)\n",
      "350 251 RGBA (0, 49)\n",
      "349 177 RGBA (0, 86)\n",
      "350 163 RGBA (0, 93)\n",
      "337 350 RGBA (6, 0)\n",
      "350 129 RGB (0, 110)\n",
      "350 230 RGB (0, 60)\n",
      "348 350 RGBA (1, 0)\n",
      "350 262 RGBA (0, 44)\n",
      "350 250 RGBA (0, 50)\n",
      "350 170 RGBA (0, 90)\n",
      "333 350 RGB (8, 0)\n",
      "349 350 RGB (0, 0)\n",
      "350 264 RGBA (0, 43)\n",
      "350 196 RGBA (0, 77)\n",
      "350 247 RGBA (0, 51)\n"
     ]
    }
   ],
   "source": [
    "for fn in all_files:\n",
    "    try:       \n",
    "        i = Image.open(fn)\n",
    "        resize = 350 / max((i.width, i.height))\n",
    "        i = i.resize((math.floor(i.width * resize), math.floor(i.height * resize)))\n",
    "        bg = Image.new('RGBA', (350, 350), '#ffffffff')\n",
    "        pos = math.floor((350 - i.width)/2), math.floor((350 - i.height)/2)\n",
    "        print(i.width, i.height, i.mode, pos)\n",
    "        if i.mode == 'RGBA':\n",
    "            bg.alpha_composite(i, dest=pos)\n",
    "        else:\n",
    "            bg.paste(i, pos)\n",
    "        bg.save('out/' + fn.split('.')[0] + '.png')\n",
    "    except Exception as e:\n",
    "        print(str(e))\n",
    "        continue"
   ]
  },
  {
   "cell_type": "code",
   "execution_count": null,
   "metadata": {},
   "outputs": [],
   "source": []
  }
 ],
 "metadata": {
  "kernelspec": {
   "display_name": "Python 3",
   "language": "python",
   "name": "python3"
  },
  "language_info": {
   "codemirror_mode": {
    "name": "ipython",
    "version": 3
   },
   "file_extension": ".py",
   "mimetype": "text/x-python",
   "name": "python",
   "nbconvert_exporter": "python",
   "pygments_lexer": "ipython3",
   "version": "3.7.0"
  }
 },
 "nbformat": 4,
 "nbformat_minor": 2
}
